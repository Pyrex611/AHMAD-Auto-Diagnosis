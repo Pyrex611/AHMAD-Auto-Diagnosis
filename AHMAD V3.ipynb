{
 "cells": [
  {
   "cell_type": "code",
   "execution_count": 20,
   "id": "730a5a48-4d73-4293-b96d-3e28ca6d79c2",
   "metadata": {},
   "outputs": [],
   "source": [
    "import pandas as pd\n",
    "import csv\n",
    "import seaborn as sns\n",
    "import numpy as np\n",
    "import networkx as nx\n",
    "import graphviz\n",
    "import requests\n",
    "import re\n",
    "import json"
   ]
  },
  {
   "cell_type": "code",
   "execution_count": 21,
   "id": "eccdc368-7fab-4203-bb91-41bbca4639d3",
   "metadata": {},
   "outputs": [],
   "source": [
    "from IPython.display import display\n",
    "from collections import defaultdict\n",
    "from sklearn.preprocessing import LabelEncoder, OneHotEncoder, MultiLabelBinarizer, StandardScaler\n",
    "from matplotlib import pyplot as plt\n",
    "from sklearn.model_selection import train_test_split, cross_validate\n",
    "from sklearn.tree import DecisionTreeClassifier, export_graphviz\n",
    "#from sklearn.ensemble import DecisionTreeClassifier\n",
    "from sklearn.ensemble import RandomForestClassifier\n",
    "from sklearn import tree\n",
    "from sklearn.pipeline import Pipeline\n",
    "from sklearn.metrics import accuracy_score\n",
    "from http.server import BaseHTTPRequestHandler, HTTPServer\n",
    "\n",
    "from bs4 import BeautifulSoup"
   ]
  },
  {
   "cell_type": "code",
   "execution_count": null,
   "id": "9f067dc9-04c3-4859-b28c-9adf64da389f",
   "metadata": {},
   "outputs": [],
   "source": [
    "#Identify and locate databASE FOR USE\n",
    "url = \"https://people.dbmi.columbia.edu/~friedma/Projects/DiseaseSymptomKB/index.html\"\n",
    "#Scrape data and download table\n",
    "table = pd.read_html(url, encoding='windows-1252')[0]"
   ]
  },
  {
   "cell_type": "code",
   "execution_count": 3,
   "id": "05e20e75-919e-4a79-8dfd-3befecbfe650",
   "metadata": {},
   "outputs": [
    {
     "ename": "NameError",
     "evalue": "name 'table' is not defined",
     "output_type": "error",
     "traceback": [
      "\u001b[1;31m---------------------------------------------------------------------------\u001b[0m",
      "\u001b[1;31mNameError\u001b[0m                                 Traceback (most recent call last)",
      "Cell \u001b[1;32mIn[3], line 2\u001b[0m\n\u001b[0;32m      1\u001b[0m \u001b[38;5;66;03m#Save CSV file\u001b[39;00m\n\u001b[1;32m----> 2\u001b[0m \u001b[43mtable\u001b[49m\u001b[38;5;241m.\u001b[39mto_csv(\u001b[38;5;124m\"\u001b[39m\u001b[38;5;124mdisease_symptom_dataset_unprocessed.csv\u001b[39m\u001b[38;5;124m\"\u001b[39m, index\u001b[38;5;241m=\u001b[39m\u001b[38;5;28;01mFalse\u001b[39;00m)\n",
      "\u001b[1;31mNameError\u001b[0m: name 'table' is not defined"
     ]
    }
   ],
   "source": [
    "#Save CSV file\n",
    "table.to_csv(\"disease_symptom_dataset_unprocessed.csv\", index=False)"
   ]
  },
  {
   "cell_type": "code",
   "execution_count": 5,
   "id": "b1d81324-0bf0-4512-aeac-14aed7e8a1b0",
   "metadata": {},
   "outputs": [
    {
     "name": "stderr",
     "output_type": "stream",
     "text": [
      "C:\\Users\\user\\AppData\\Local\\Temp\\ipykernel_6088\\1075060269.py:14: FutureWarning: DataFrame.fillna with 'method' is deprecated and will raise in a future version. Use obj.ffill() or obj.bfill() instead.\n",
      "  disease_symptom_dataset_unprocessed = disease_symptom_dataset_unprocessed.fillna(method='ffill')\n"
     ]
    }
   ],
   "source": [
    "#Read CSV File\n",
    "disease_symptom_dataset_unprocessed = pd.read_csv('disease_symptom_dataset_unprocessed.csv')\n",
    "\n",
    "#Drop the first row\n",
    "disease_symptom_dataset_unprocessed = disease_symptom_dataset_unprocessed.drop(0, axis=0)\n",
    "\n",
    "#Reset Index\n",
    "disease_symptom_dataset_unprocessed = disease_symptom_dataset_unprocessed.reset_index(drop=True)\n",
    "\n",
    "#Rename Columns\n",
    "disease_symptom_dataset_unprocessed.columns = ['disease', 'occurences', 'symptoms']\n",
    "\n",
    "#Handle Nan values\n",
    "disease_symptom_dataset_unprocessed = disease_symptom_dataset_unprocessed.fillna(method='ffill')"
   ]
  },
  {
   "cell_type": "code",
   "execution_count": 6,
   "id": "a5851280-e4e6-4724-a2d8-b451b0968726",
   "metadata": {},
   "outputs": [],
   "source": [
    "#Function to convert\n",
    "def listToString(s):\n",
    "    #Initialize empty String\n",
    "    str1 = \" \"\n",
    "    #Return string\n",
    "    return (str1.join(s))\n",
    "    \n",
    "#Process disease and symptom columns\n",
    "def remove_umls_code(data):\n",
    "    #Regular expression pattern to match UMLS code\n",
    "#    pattern = r'UMLS:C[0-9]+_(.*)'\n",
    "    #Replace UMLS codes with the captured group (text after _)\n",
    "#    data = re.sub(pattern,r'\\1', data)\n",
    "#    return data\n",
    "    data_ = []\n",
    "    items = data.replace('^','_').split('_')\n",
    "    i = 1\n",
    "    for item in items:\n",
    "        if (i % 2 == 0):\n",
    "            data_.append(item)\n",
    "        i += 1\n",
    "    return data_"
   ]
  },
  {
   "cell_type": "code",
   "execution_count": 7,
   "id": "aeb3db2e-408d-40e8-a334-7d638b041b14",
   "metadata": {},
   "outputs": [],
   "source": [
    "diseases = []\n",
    "symptoms = []\n",
    "occurences = 0\n",
    "disease_symptoms = defaultdict(list) #or d.setdefault(key, []).append(disease_symptoms)\n",
    "disease_symptoms_occurences = {}\n",
    "disease_symptom_df = pd.DataFrame([], columns=[\"diseases\", \"symptoms\"])\n",
    "for index, row in disease_symptom_dataset_unprocessed.iterrows():\n",
    "    \n",
    "    if (row['disease']!=\"\\xc2\\xa0\") and (row['disease']!=\"\"):\n",
    "        diseases = remove_umls_code(row['disease'])    \n",
    "    occurences = (row['occurences'] if (row['occurences'] !=\"\\xc2\\xa0\") and (row['occurences']!=\"\") else[])\n",
    "    #if (row['symptoms']!=\"\\xc2\\xa0) and (row['symptoms']!=\"\"):\n",
    "     #   symptoms = remove_umls_code(row['symptoms'])\n",
    "    symptoms = [] if (row['symptoms']!=\"\\xc2\\xa0\") and (row['symptoms']!=\"\") else None\n",
    "                      \n",
    "    symptoms = remove_umls_code(row['symptoms']) if symptoms == [] else symptoms\n",
    "    disease_symptom_df = disease_symptom_df._append(\n",
    "        {\n",
    "            \"diseases\": listToString(remove_umls_code(row['disease']) if (row['disease']!=\"\\xc2\\xa0\") and (row['disease']!=\"\") \n",
    "                                     else []), \n",
    "            \"symptoms\": listToString(remove_umls_code(row['symptoms']) if (row['symptoms']!=\"\\xc2\\xa0\") and (row['disease']!=\"\") \n",
    "                                     else[])\n",
    "        }, ignore_index=True)\n",
    "    for d in diseases:\n",
    "            for s in symptoms:\n",
    "                disease_symptoms.setdefault(d, []).append(s)\n",
    "            disease_symptoms_occurences[d] = occurences"
   ]
  },
  {
   "cell_type": "code",
   "execution_count": 8,
   "id": "9b5aaef9-ed52-4e37-b83c-559dca415326",
   "metadata": {},
   "outputs": [],
   "source": [
    "#Save the cleaned dataset to a CSV file\n",
    "disease_symptom_dataset_unprocessed.to_csv(\"disease_symptom_dataset_processed.csv\")\n",
    "disease_symptom_dataset_processed = pd.read_csv('disease_symptom_dataset_processed.csv')\n",
    "\n",
    "#Save disease symptoms list to a csv file\n",
    "disease_symptoms_data = pd.DataFrame.from_dict(disease_symptoms.items())\n",
    "disease_symptoms_data.to_csv('disease_symptoms.csv')\n",
    "\n",
    "#Save disease symtom occurences list to a CSV file\n",
    "disease_symptoms_occurences_data = pd.DataFrame.from_dict(disease_symptoms_occurences.items())\n",
    "disease_symptoms_occurences_data.to_csv('disease_occurences.csv')"
   ]
  },
  {
   "cell_type": "code",
   "execution_count": 9,
   "id": "e2721295-d99e-4f0f-886e-c96f8a64225c",
   "metadata": {},
   "outputs": [],
   "source": [
    "disease_symptom_df.head()\n",
    "disease_symptom_df.to_csv('disease-symptom_df.csv')"
   ]
  },
  {
   "cell_type": "code",
   "execution_count": null,
   "id": "028b6fe2-b08e-44e9-8347-84052f4aea2b",
   "metadata": {},
   "outputs": [],
   "source": [
    "disease_symptom_df.to_csv('disease_symptoms_network.csv')\n",
    "#0. Figure size\n",
    "plt.figure(figsize=(160, 160)).set_facecolor(\"w\")\n",
    "# 1. Create a graph\n",
    "disease_symptom_network = nx.from_pandas_edgelist(disease_symptom_df, source='diseases', target='symptoms')\n",
    "# 2. Create a layout ofr our nodes\n",
    "layout = nx.spring_layout(disease_symptom_network, iterations=200)\n",
    "# 3. Draw the parts we want\n",
    "nx.draw_networkx_edges(disease_symptom_network, layout, edge_color='#AAAAAA')\n",
    "\n",
    "#Symptoms\n",
    "symptoms_n = [node for node in disease_symptom_network.nodes() if node in disease_symptom_df.symptoms.unique()]\n",
    "symptoms_size = [disease_symptom_network.degree(node)*200 for node in disease_symptom_network.nodes() if node in disease_symptom_df.symptoms.unique()]\n",
    "nx.draw_networkx_nodes(disease_symptom_network, layout, nodelist=symptoms_n, node_size=symptoms_size, node_color='#27ae60')\n",
    "\n",
    "#Diseases\n",
    "disease_n = [node for node in disease_symptom_network.nodes() if node in disease_symptom_df.diseases.unique()]\n",
    "disease_size = [disease_symptom_network.degree(node)*200 for node in disease_symptom_network.nodes() if node in disease_symptom_df.diseases.unique()]\n",
    "nx.draw_networkx_nodes(disease_symptom_network, layout, nodelist=disease_n, node_size=disease_size, node_color='#e67e22')\n",
    "\n",
    "#Label Network\n",
    "symptoms_dict = dict(zip(symptoms_n, symptoms_n))\n",
    "diseases_dict = dict(zip(disease_n, disease_n))\n",
    "nx.draw_networkx_labels(disease_symptom_network, layout, labels=symptoms_dict)\n",
    "nx.draw_networkx_labels(disease_symptom_network, layout, labels=diseases_dict)\n",
    "\n",
    "#Turn off axis\n",
    "plt.axis('off')\n",
    "#Titel\n",
    "plt.title(\"DISEASE-SYMPTOMS-NETWORK\")\n",
    "# 5. Save the plot\n",
    "plt.savefig('disease_symptom_network.png')\n",
    "# 6. Show\n",
    "#plt.show()"
   ]
  },
  {
   "cell_type": "code",
   "execution_count": 11,
   "id": "d1764fef-8c39-4626-9fe5-0a70697ba81f",
   "metadata": {},
   "outputs": [],
   "source": [
    "#disease_symptom_network.nodes.data()\n",
    "#@app.route('/get_common_target_connected_nodes', methods=['POST']\n",
    "def get_common_target_connected_nodes(graph, nodes):\n",
    "#    nodes = request.get_json()['nodes']\n",
    "    if len(nodes) == 1:\n",
    "        return list(graph.neighbors(nodes[0]))\n",
    "    common_target_nodes = set()\n",
    "    common_target_nodes = set(graph.neighbors(nodes[0]))\n",
    "    for node in nodes[1:]:\n",
    "        common_target_nodes &= set(graph.neighbors(node))\n",
    "    return list(common_target_nodes)\n",
    "    #common_neighbors = set(graph.neighbors(nodes[0]))\n",
    "    #for node in nodes[1:]:\n",
    "      #  common_neighbors &= set(graph.neighbors(node))\n",
    "     #   common_nodes_in_source = [node for node in common_neighbors if node in nodes]\n",
    "    #return common_nodes_in_source\n",
    "    \n",
    "    #for neighbor in G.neighbors(node):\n",
    "     #   print(neighbor)\n",
    "      #  if neighbor not in seen:\n",
    "       #     seen.add(neighbor)\n",
    "        #    fetch_connected_nodes(G, neighbor, seen)\n",
    "    #return seen\n",
    "\n",
    "def preprocess_input(input_str):\n",
    "    #Remove any leading or trailing white spaces\n",
    "    input_str = input_str.strip()\n",
    "    #Split theinput into a list of nodes\n",
    "    nodes = input_str.split(',')\n",
    "    return nodes\n",
    "\n",
    "def validate_input(graph, nodes):\n",
    "    valid_nodes = []\n",
    "    for node in nodes:\n",
    "        if node in graph:\n",
    "            valid_nodes.append(node)\n",
    "        else:\n",
    "            # If the node is not in the graph, try splitting it by comma\n",
    "            split_nodes = node.split(' ')\n",
    "            for split_node in split_nodes:\n",
    "                split_node = split_node.strip()\n",
    "                if split_node in graph:\n",
    "                    valid_nodes.append(split_node)\n",
    "                else:\n",
    "                    #If the node is still not valid, print error message\n",
    "                    print(f\"Error: The symptom {node} is not registered on our database, perhaps it could be a typo.\")\n",
    "    return valid_nodes"
   ]
  },
  {
   "cell_type": "code",
   "execution_count": 12,
   "id": "235fa05b-bc41-40f0-a61a-915695b8789e",
   "metadata": {},
   "outputs": [],
   "source": [
    "from flask import Flask, request, jsonify, render_template, url_for\n",
    "import json"
   ]
  },
  {
   "cell_type": "code",
   "execution_count": 29,
   "id": "f3c2ba16-8383-43a3-b4ba-903e0a744575",
   "metadata": {},
   "outputs": [
    {
     "ename": "NameError",
     "evalue": "name 'self' is not defined",
     "output_type": "error",
     "traceback": [
      "\u001b[1;31m---------------------------------------------------------------------------\u001b[0m",
      "\u001b[1;31mNameError\u001b[0m                                 Traceback (most recent call last)",
      "Cell \u001b[1;32mIn[29], line 23\u001b[0m\n\u001b[0;32m     20\u001b[0m             \u001b[38;5;28mself\u001b[39m\u001b[38;5;241m.\u001b[39msend_header(\u001b[38;5;124m'\u001b[39m\u001b[38;5;124mContent-Type\u001b[39m\u001b[38;5;124m'\u001b[39m, \u001b[38;5;124m'\u001b[39m\u001b[38;5;124mapplication/json\u001b[39m\u001b[38;5;124m'\u001b[39m)\n\u001b[0;32m     21\u001b[0m             \u001b[38;5;28mself\u001b[39m\u001b[38;5;241m.\u001b[39mend_headers()\n\u001b[1;32m---> 23\u001b[0m \u001b[38;5;28;43mself\u001b[39;49m\u001b[38;5;241m.\u001b[39mwfile\u001b[38;5;241m.\u001b[39mwrite(json\u001b[38;5;241m.\u001b[39mdumps(common_target_nodes)\u001b[38;5;241m.\u001b[39mencode())\n\u001b[0;32m     25\u001b[0m \u001b[38;5;28;01mdef\u001b[39;00m \u001b[38;5;21mrun_server\u001b[39m():\n\u001b[0;32m     26\u001b[0m     server_address\u001b[38;5;241m=\u001b[39m(\u001b[38;5;124m'\u001b[39m\u001b[38;5;124mlocalhost\u001b[39m\u001b[38;5;124m'\u001b[39m, \u001b[38;5;241m5000\u001b[39m)\n",
      "\u001b[1;31mNameError\u001b[0m: name 'self' is not defined"
     ]
    }
   ],
   "source": [
    "def process_data(nodes):\n",
    "    #Preprocess the input\n",
    "    preprocessed_nodes = preprocess_input(nodes)\n",
    "    #Validate the input\n",
    "    valid_nodes = validate_input(disease_symptom_network, preprocessed_nodes)\n",
    "    #Get the common taret nodes\n",
    "    common_target_nodes = get_common_target_connected_nodes(disease_symptom_network, valid_nodes)\n",
    "    return common_target_nodes"
   ]
  },
  {
   "cell_type": "code",
   "execution_count": null,
   "id": "d6a8c109-2538-44c8-b396-1f5ea07d54c7",
   "metadata": {},
   "outputs": [],
   "source": [
    "def main():\n",
    "    #Get user input\n",
    "    #input_str = input(\"Please list all symptoms(Seperated by commas):\")\n",
    "    #Preprocess the input\n",
    "    nodes = preprocess_input(input_str)\n",
    "    #Validate the input\n",
    "    valid_nodes = validate_input(disease_symptom_network, nodes)\n",
    "    if valid_nodes:\n",
    "        #Get the common taret nodes\n",
    "        common_target_nodes = get_common_target_connected_nodes(disease_symptom_network, valid_nodes)\n",
    "    \n",
    "    #Print the result\n",
    "    if common_target_nodes:\n",
    "        if len(common_target_nodes) == 1:\n",
    "            print(\"The most ailment based off of your symptoms is: \", common_target_nodes, \"Please visit a certified health professional for medical advice\")\n",
    "        else:\n",
    "            print(\"Possible ailments based off of your symptoms are: \", common_target_nodes)\n",
    "    else:\n",
    "        break\n",
    "    break\n",
    "\n",
    "if __name__==\"__main__\":\n",
    "    main()"
   ]
  }
 ],
 "metadata": {
  "kernelspec": {
   "display_name": "Python 3 (ipykernel)",
   "language": "python",
   "name": "python3"
  },
  "language_info": {
   "codemirror_mode": {
    "name": "ipython",
    "version": 3
   },
   "file_extension": ".py",
   "mimetype": "text/x-python",
   "name": "python",
   "nbconvert_exporter": "python",
   "pygments_lexer": "ipython3",
   "version": "3.12.2"
  }
 },
 "nbformat": 4,
 "nbformat_minor": 5
}
